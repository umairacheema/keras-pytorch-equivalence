{
 "cells": [
  {
   "cell_type": "code",
   "execution_count": 3,
   "metadata": {},
   "outputs": [],
   "source": [
    "import os\n",
    "import time\n",
    "import tensorflow as tf\n",
    "import numpy as np\n",
    "from skimage import io\n",
    "from skimage.color import rgb2lab, lab2rgb, rgb2gray\n",
    "from skimage.transform import resize\n",
    "from tensorflow.keras import Input, Model\n",
    "from tensorflow.keras.layers import Conv2D, UpSampling2D\n",
    "from tensorflow.keras.preprocessing.image import ImageDataGenerator, img_to_array, load_img\n",
    "from skimage.transform import rescale, resize\n",
    "import matplotlib.pyplot as plt\n",
    "%matplotlib inline"
   ]
  },
  {
   "cell_type": "markdown",
   "metadata": {},
   "source": [
    "### 1) Data Access"
   ]
  },
  {
   "cell_type": "code",
   "execution_count": 4,
   "metadata": {},
   "outputs": [],
   "source": [
    "#Read Training data and convert into Lab space\n",
    "#To convert images to 256x256 use this command on the bash\n",
    "#for i in *.jpg; do convert $i -scale 256x256 -gravity center -background white -extent 256x256 resized/f$i; don\n",
    "#Read Training data\n",
    "X = []\n",
    "for filename in os.listdir('mixed/'):    \n",
    "    X.append(img_to_array(load_img('mixed/'+filename)))\n",
    "X = np.array(X, dtype=float)\n",
    "Xtrain = 1.0/255*X"
   ]
  },
  {
   "cell_type": "code",
   "execution_count": 5,
   "metadata": {},
   "outputs": [],
   "source": [
    "#Convert into Lab space\n",
    "for i in np.arange(len(Xtrain)):\n",
    "    Xtrain[i] = rgb2lab(Xtrain[i])\n",
    "    Xtrain[i] = (Xtrain[i] + [0, 128, 128]) / [100, 255, 255]"
   ]
  },
  {
   "cell_type": "code",
   "execution_count": 6,
   "metadata": {},
   "outputs": [
    {
     "data": {
      "text/plain": [
       "(3486, 256, 256, 3)"
      ]
     },
     "execution_count": 6,
     "metadata": {},
     "output_type": "execute_result"
    }
   ],
   "source": [
    "Xtrain.shape"
   ]
  },
  {
   "cell_type": "code",
   "execution_count": 7,
   "metadata": {},
   "outputs": [],
   "source": [
    "#Separate X (Lightness) and Y(ab images)\n",
    "Y_train = Xtrain[:,:,:,1:]\n",
    "X_train = Xtrain[:,:,:,0]"
   ]
  },
  {
   "cell_type": "code",
   "execution_count": 8,
   "metadata": {},
   "outputs": [],
   "source": [
    "X_train=X_train.reshape((X_train.shape[0],X_train.shape[1],X_train.shape[2],1))"
   ]
  },
  {
   "cell_type": "code",
   "execution_count": 10,
   "metadata": {},
   "outputs": [],
   "source": [
    "#Read Testing data\n",
    "X_test = []\n",
    "for filename in os.listdir('test'):    \n",
    "    X_test.append(img_to_array(load_img('test/'+filename))/255.)\n",
    "X_test = np.array(X_test)"
   ]
  },
  {
   "cell_type": "markdown",
   "metadata": {},
   "source": [
    "### 2) Model Building"
   ]
  },
  {
   "cell_type": "code",
   "execution_count": 11,
   "metadata": {},
   "outputs": [],
   "source": [
    "#Encoder\n",
    "encoder_input = Input(shape=(256, 256, 1,))\n",
    "encoder_output = Conv2D(64, (3,3), activation='relu', padding='same', strides=2)(encoder_input)\n",
    "encoder_output = Conv2D(128, (3,3), activation='relu', padding='same')(encoder_output)\n",
    "encoder_output = Conv2D(128, (3,3), activation='relu', padding='same', strides=2)(encoder_output)\n",
    "encoder_output = Conv2D(256, (3,3), activation='relu', padding='same')(encoder_output)\n",
    "encoder_output = Conv2D(256, (3,3), activation='relu', padding='same', strides=2)(encoder_output)\n",
    "\n",
    "#Decoder\n",
    "decoder_output = Conv2D(128, (3,3), activation='relu', padding='same')(encoder_output)\n",
    "decoder_output = UpSampling2D((2, 2))(decoder_output)\n",
    "decoder_output = Conv2D(64, (3,3), activation='relu', padding='same')(decoder_output)\n",
    "decoder_output = UpSampling2D((2, 2))(decoder_output)\n",
    "decoder_output = Conv2D(32, (3,3), activation='relu', padding='same')(decoder_output)\n",
    "decoder_output = Conv2D(16, (3,3), activation='relu', padding='same')(decoder_output)\n",
    "decoder_output = Conv2D(2, (3, 3), activation='tanh', padding='same')(decoder_output)\n",
    "decoder_output = UpSampling2D((2, 2))(decoder_output)\n",
    "\n",
    "model = Model(inputs=encoder_input, outputs=decoder_output)\n"
   ]
  },
  {
   "cell_type": "code",
   "execution_count": 12,
   "metadata": {},
   "outputs": [
    {
     "name": "stdout",
     "output_type": "stream",
     "text": [
      "_________________________________________________________________\n",
      "Layer (type)                 Output Shape              Param #   \n",
      "=================================================================\n",
      "input_1 (InputLayer)         (None, 256, 256, 1)       0         \n",
      "_________________________________________________________________\n",
      "conv2d (Conv2D)              (None, 128, 128, 64)      640       \n",
      "_________________________________________________________________\n",
      "conv2d_1 (Conv2D)            (None, 128, 128, 128)     73856     \n",
      "_________________________________________________________________\n",
      "conv2d_2 (Conv2D)            (None, 64, 64, 128)       147584    \n",
      "_________________________________________________________________\n",
      "conv2d_3 (Conv2D)            (None, 64, 64, 256)       295168    \n",
      "_________________________________________________________________\n",
      "conv2d_4 (Conv2D)            (None, 32, 32, 256)       590080    \n",
      "_________________________________________________________________\n",
      "conv2d_5 (Conv2D)            (None, 32, 32, 128)       295040    \n",
      "_________________________________________________________________\n",
      "up_sampling2d (UpSampling2D) (None, 64, 64, 128)       0         \n",
      "_________________________________________________________________\n",
      "conv2d_6 (Conv2D)            (None, 64, 64, 64)        73792     \n",
      "_________________________________________________________________\n",
      "up_sampling2d_1 (UpSampling2 (None, 128, 128, 64)      0         \n",
      "_________________________________________________________________\n",
      "conv2d_7 (Conv2D)            (None, 128, 128, 32)      18464     \n",
      "_________________________________________________________________\n",
      "conv2d_8 (Conv2D)            (None, 128, 128, 16)      4624      \n",
      "_________________________________________________________________\n",
      "conv2d_9 (Conv2D)            (None, 128, 128, 2)       290       \n",
      "_________________________________________________________________\n",
      "up_sampling2d_2 (UpSampling2 (None, 256, 256, 2)       0         \n",
      "=================================================================\n",
      "Total params: 1,499,538\n",
      "Trainable params: 1,499,538\n",
      "Non-trainable params: 0\n",
      "_________________________________________________________________\n"
     ]
    }
   ],
   "source": [
    "model.summary()"
   ]
  },
  {
   "cell_type": "code",
   "execution_count": 13,
   "metadata": {},
   "outputs": [],
   "source": [
    "batch_size = 20\n",
    "epochs = 30"
   ]
  },
  {
   "cell_type": "code",
   "execution_count": 14,
   "metadata": {},
   "outputs": [
    {
     "name": "stdout",
     "output_type": "stream",
     "text": [
      "Train on 3137 samples, validate on 349 samples\n",
      "Epoch 1/30\n",
      "3137/3137 [==============================] - 88s 28ms/step - loss: 0.2344 - val_loss: 0.0411\n",
      "Epoch 2/30\n",
      "3137/3137 [==============================] - 76s 24ms/step - loss: 0.0560 - val_loss: 0.0460\n",
      "Epoch 3/30\n",
      "3137/3137 [==============================] - 76s 24ms/step - loss: 0.0528 - val_loss: 0.0424\n",
      "Epoch 4/30\n",
      "3137/3137 [==============================] - 77s 24ms/step - loss: 0.0526 - val_loss: 0.0375\n",
      "Epoch 5/30\n",
      "3137/3137 [==============================] - 77s 25ms/step - loss: 0.0525 - val_loss: 0.0377\n",
      "Epoch 6/30\n",
      "3137/3137 [==============================] - 76s 24ms/step - loss: 0.0508 - val_loss: 0.0380\n",
      "Epoch 7/30\n",
      "3137/3137 [==============================] - 77s 24ms/step - loss: 0.0522 - val_loss: 0.0433\n",
      "Epoch 8/30\n",
      "3137/3137 [==============================] - 77s 24ms/step - loss: 0.0517 - val_loss: 0.0482\n",
      "Epoch 9/30\n",
      "3137/3137 [==============================] - 78s 25ms/step - loss: 0.0508 - val_loss: 0.0365\n",
      "Epoch 10/30\n",
      "3137/3137 [==============================] - 77s 25ms/step - loss: 0.0517 - val_loss: 0.0390\n",
      "Epoch 11/30\n",
      "3137/3137 [==============================] - 77s 25ms/step - loss: 0.0516 - val_loss: 0.0421\n",
      "Epoch 12/30\n",
      "3137/3137 [==============================] - 77s 25ms/step - loss: 0.0501 - val_loss: 0.0399\n",
      "Epoch 13/30\n",
      "3137/3137 [==============================] - 78s 25ms/step - loss: 0.0505 - val_loss: 0.0348\n",
      "Epoch 14/30\n",
      "3137/3137 [==============================] - 78s 25ms/step - loss: 0.0501 - val_loss: 0.0436\n",
      "Epoch 15/30\n",
      "3137/3137 [==============================] - 78s 25ms/step - loss: 0.0501 - val_loss: 0.0363\n",
      "Epoch 16/30\n",
      "3137/3137 [==============================] - 78s 25ms/step - loss: 0.0497 - val_loss: 0.0375\n",
      "Epoch 17/30\n",
      "3137/3137 [==============================] - 78s 25ms/step - loss: 0.0495 - val_loss: 0.0336\n",
      "Epoch 18/30\n",
      "3137/3137 [==============================] - 78s 25ms/step - loss: 0.0495 - val_loss: 0.0352\n",
      "Epoch 19/30\n",
      "3137/3137 [==============================] - 78s 25ms/step - loss: 0.0492 - val_loss: 0.0359\n",
      "Epoch 20/30\n",
      "3137/3137 [==============================] - 79s 25ms/step - loss: 0.0497 - val_loss: 0.0342\n",
      "Epoch 21/30\n",
      "3137/3137 [==============================] - 77s 25ms/step - loss: 0.0492 - val_loss: 0.0392\n",
      "Epoch 22/30\n",
      "3137/3137 [==============================] - 73s 23ms/step - loss: 0.0492 - val_loss: 0.0351\n",
      "Epoch 23/30\n",
      "3137/3137 [==============================] - 75s 24ms/step - loss: 0.0487 - val_loss: 0.0336\n",
      "Epoch 24/30\n",
      "3137/3137 [==============================] - 74s 24ms/step - loss: 0.0490 - val_loss: 0.0359\n",
      "Epoch 25/30\n",
      "3137/3137 [==============================] - 75s 24ms/step - loss: 0.0488 - val_loss: 0.0358\n",
      "Epoch 26/30\n",
      "3137/3137 [==============================] - 75s 24ms/step - loss: 0.0485 - val_loss: 0.0339\n",
      "Epoch 27/30\n",
      "3137/3137 [==============================] - 76s 24ms/step - loss: 0.0486 - val_loss: 0.0359\n",
      "Epoch 28/30\n",
      "3137/3137 [==============================] - 75s 24ms/step - loss: 0.0491 - val_loss: 0.0345\n",
      "Epoch 29/30\n",
      "3137/3137 [==============================] - 74s 23ms/step - loss: 0.0483 - val_loss: 0.0352\n",
      "Epoch 30/30\n",
      "3137/3137 [==============================] - 74s 23ms/step - loss: 0.0479 - val_loss: 0.0373\n",
      "Finished Training\n",
      "--- 2306.3124475479126 seconds ---\n"
     ]
    }
   ],
   "source": [
    "#Train model      \n",
    "#tensorboard = TensorBoard(log_dir=\"./output\")\n",
    "start_time = time.time()\n",
    "model.compile(optimizer='adam', loss='mse')\n",
    "history = model.fit(x=X_train,y=Y_train,batch_size=batch_size,epochs=epochs,\n",
    "                    validation_split=0.10,shuffle=True)\n",
    "print('Finished Training')\n",
    "print(\"--- %s seconds ---\" % (time.time() - start_time))"
   ]
  },
  {
   "cell_type": "code",
   "execution_count": 15,
   "metadata": {},
   "outputs": [],
   "source": [
    "def plot_curves(history):\n",
    "    loss = history.history['loss']\n",
    "    val_loss=history.history['val_loss']\n",
    "    epochs = range(1, len(loss)+1)\n",
    "    with plt.style.context('fivethirtyeight'):\n",
    "        plt.figure(figsize=(20,10))\n",
    "        plt.plot(epochs, loss, label='Training loss')\n",
    "        plt.plot(epochs, val_loss, label='Validation loss')\n",
    "        plt.legend(frameon=False)\n",
    "        plt.show()\n",
    "    "
   ]
  },
  {
   "cell_type": "code",
   "execution_count": 16,
   "metadata": {},
   "outputs": [
    {
     "data": {
      "image/png": "[encoded data removed]",
      "text/plain": [
       "<Figure size 1440x720 with 1 Axes>"
      ]
     },
     "metadata": {},
     "output_type": "display_data"
    }
   ],
   "source": [
    "plot_curves(history)"
   ]
  },
  {
   "cell_type": "code",
   "execution_count": 17,
   "metadata": {},
   "outputs": [],
   "source": [
    "def colour_image(image_data):\n",
    "    input_img = rgb2lab(image_data)\n",
    "    #input_img = rgb2gray(image_data)\n",
    "    input_img = (input_img + [0, 128, 128]) / [100, 255, 255]\n",
    "    input_img = input_img[:,:,0]\n",
    "    input_img = input_img.reshape((1,256,256,1))\n",
    "    imgout = model.predict(input_img)\n",
    "    coloured = np.zeros((256,256,3))\n",
    "    coloured[:,:,0] = input_img.reshape((256,256))\n",
    "    coloured[:,:,1:] = imgout\n",
    "    coloured = (coloured * [100, 255, 255]) - [0, 128, 128]\n",
    "    rgb_image = lab2rgb(coloured)\n",
    "    plt.figure(figsize=(20,10))\n",
    "    plt.subplot(121)\n",
    "    plt.imshow(rgb_image)\n",
    "    plt.subplot(132)\n",
    "    plt.imshow(image_data)\n",
    "    plt.subplot(133)\n",
    "    plt.imshow(rgb_image)\n",
    "    "
   ]
  },
  {
   "cell_type": "code",
   "execution_count": null,
   "metadata": {},
   "outputs": [],
   "source": [
    "for i in np.arange(20,30):\n",
    "    image_number=i\n",
    "    colour_image(X_test[image_number])"
   ]
  }
 ],
 "metadata": {
  "kernelspec": {
   "display_name": "Python 3",
   "language": "python",
   "name": "python3"
  },
  "language_info": {
   "codemirror_mode": {
    "name": "ipython",
    "version": 3
   },
   "file_extension": ".py",
   "mimetype": "text/x-python",
   "name": "python",
   "nbconvert_exporter": "python",
   "pygments_lexer": "ipython3",
   "version": "3.6.8"
  }
 },
 "nbformat": 4,
 "nbformat_minor": 2
}
